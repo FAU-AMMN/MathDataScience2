{
 "cells": [
  {
   "cell_type": "markdown",
   "source": [
    "Gewöhnliche Differentialgleichungen\r\n",
    "============================\r\n",
    "\r\n",
    "Differentialgleichungen spielen seit je her eine fundamentale Rolle bei der physikalischen Modellierung von Naturgesetzen und erklären viele beobachtbare Phänomene unseres Alltags äußerst präzise.\r\n",
    "Eine Differentialgleichung beschreibt häufig das Änderungsverhalten von Größen, wie zum Beispiel die Fallgeschwindigkeit eines Steins, den man fallen lässt, oder die Vermehrung von Bakterien in einer Nährlösung.\r\n",
    "Während insbesondere in der Analysis die Existenz und Eindeutigkeit von Lösungen von Differentialgleichungen untersucht wird, widmet sich die Numerische Mathematik der Herleitung von Lösungsverfahren, die approximative Lösungen für Differentialgleichungen liefern, für die keine analytische Lösung bekannt ist.\r\n",
    "\r\n",
    "Mathematisch gesehen ist eine Differentialgleichung eine Gleichung, in der eine unbekannte Funktion und ihre Ableitungen auftreten.\r\n",
    "Die größte vorkommende Ableitung bestimmt hierbei die _Ordnung der Differentialgleichung_. Je nachdem ob die es sich um eine Funktion in einer oder mehreren Veränderlichen handelt sprechen wir von einer _Gewöhnlichen Differentialgleichung_ oder einer _Partiellen Differentialgleichung_.\r\n",
    "Werden gleich mehrere solche Funktionen durch mehrere Gleichungen beschrieben, so spricht man von einem _Differentialgleichungssystem_.\r\n",
    "Im Folgenden beschränken wir uns auf die Diskussion von gewöhnlichen Differentialgleichungen, d.h., wir untersuchen Gleichungen in denen eine unbekannte Funktion mit einer Variablen und deren Ableitungen vorkommen.\r\n",
    "\r\n",
    "Das folgende Beispiel soll ein grundlegendes Verständnis von gewöhnlichen Differentialgleichungen und den zugehörigen mathematischen Fragestellungen liefern.\r\n",
    "\r\n",
    "````{prf:example}\r\n",
    "Das einfachste Beispiel einer gewöhnlichen Differentialgleichung ist gegeben durch\r\n",
    "\\begin{equation*}\r\n",
    "x(t) \\ = \\ x'(t), \\qquad \\text{ für alle } \\ t\\in \\R.\r\n",
    "\\end{equation*}\r\n",
    "Wir suchen also eine unbekannte Funktion $x \\colon \\R \\rightarrow \\R$, deren Ableitung gerade die Funktion selbst ist.\r\n",
    "In diesem Fall können wir die Lösung der Gleichung quasi erraten, denn für die Exponentialfunktion gilt offensichtlich \r\n",
    "\\begin{equation*}\r\n",
    "x(t) \\ \\coloneqq \\ e^t \\ = \\ (e^t)' \\ = \\ x'(t).\r\n",
    "\\end{equation*}\r\n",
    "\r\n",
    "Jedoch ist dies nicht die einzige Lösung, denn die konstante Nullfunktion $x(t) \\equiv 0$ für alle $t\\in \\R$ erfüllt ebenfalls die Differentialgleichung.\r\n",
    "````\r\n",
    "\r\n",
    "In diesem Kapitel wollen wir uns damit beschäftigen, wann Lösungen einer Differentialgleichungen existieren und in welchen Fällen diese eindeutig sind.\r\n",
    "Darüber hinaus lernen wir praktische Werkzeuge zur analytischen Lösung von Differentialgleichungen kennen.\r\n",
    "\r\n",
    "Wir beginnen mit der Definition einer grundlegenden Klasse von Differentialgleichungen.\r\n",
    "\r\n",
    "````{prf:definition} Lineare Differentialgleichung\r\n",
    ":label: def:dgl_linear\r\n",
    "\r\n",
    "Sei $n\\in \\N$ und $I \\subset \\R$ ein offenes Intervall.\r\n",
    "Seien außerdem $a_i \\colon I \\rightarrow \\R$ und $b \\colon I \\rightarrow \\R$ stetige Funktionen für $0 \\leq i \\leq n$.\r\n",
    "Dann nennen wir eine gewöhnliche Differentialgleichung $n$-ter Ordnung mit einer unbekannten $n$-mal stetig differenzierbaren Funktion $x \\colon I \\rightarrow \\R$ _linear_, wenn sie in folgender Form vorliegt\r\n",
    "\r\n",
    "```{math}\r\n",
    ":label: eq:dgl_linear\r\n",
    "\r\n",
    "\\sum\\limits_{i=0}^na_i(t)x^{(i)}(t) \\ = \\ a_0(t)\\cdot x(t) + a_1(t) \\cdot x'(t) + \\ldots + a_n(t)\\cdot x^{(n)}(t) \\ = \\  b(t).\r\n",
    "```\r\n",
    "\r\n",
    "Hierbei bezeichnen wir mit $x^{(k)}(t)$ die $k$-te Ableitung der Funktion $x$ im Punkt $t \\in I$.\r\n",
    "\r\n",
    "Ist eine Differentialgleichung nicht in der Form {eq}`eq:dgl_linear`, so bezeichnen wir sie als _nichtlinear_.\r\n",
    "\r\n",
    "Eine lineare Differentialgleichung heißt _homogen_, falls $b(t) \\equiv 0$ für alle $t\\in\\R$.\r\n",
    "Der Term $b$ wird auch häufig _Störfunktion_ genannt.\r\n",
    "````\r\n",
    "\r\n",
    "Im Folgenden wollen wir verschiedene gewöhnliche Differentialgleichungen diskutieren und gemäß der Definition {prf:ref}`def:dgl_linear` klassifizieren.\r\n",
    "\r\n",
    "````{prf:example} Radioaktiver Zerfall\r\n",
    ":label: ode:radio\r\n",
    "\r\n",
    "Sei $c>0$ eine Konstante. \r\n",
    "Dann beschreibt die folgende gewöhnliche Differentialgleichung\r\n",
    "\\begin{equation*}\r\n",
    "\\frac{d}{dt}x(t) \\ = \\ x'(t) \\ = \\  -c\\cdot x(t)\r\n",
    "\\end{equation*}\r\n",
    "den radioaktiven Zerfall eines strahlenden Materials mit Stoffmenge $x$ zum Zeitpunkt $t$.\r\n",
    "In diesem Kontext beschreibt $c$ die charakteristische Zerfallskonstante des Materials.\r\n",
    "Es handelt sich hierbei um eine **lineare, gewöhnliche Differentialgleichung erster Ordnung**, die **homogen** ist (da die Störfunktion $b(t) \\equiv 0$ ist).\r\n",
    "\r\n",
    "Ist die anfängliche Stoffmenge $x_0 \\in \\R^+$ zum Zeitpunkt $t=0$ mit $x(0) = x_0$ bekannt, so ist\r\n",
    "\\begin{equation*}\r\n",
    "x(t) \\ = \\ x_0 \\cdot e^{-ct}, \\qquad \\text{ für } \\ t\\in\\R^+_0\r\n",
    "\\end{equation*}\r\n",
    "die eindeutige Lösung der Differentialgleichung.\r\n",
    "Wir erhalten im allgemeinen Fall also eine einparametrige Schar von Lösungen, die linear vom Anfangswert $x_0$ abhängen.\r\n",
    "````\r\n",
    "\r\n",
    "````{prf:example} Steinwurf\r\n",
    ":label: ode:stein\r\n",
    "\r\n",
    "In diesem Beispiel wollen wir die Bahn eines geworfenen Steins im konstanten Gravitationsfeld der Erde mit Erdbeschleunigung $g  \\approx 9,81 \\frac{m}{s^2}$ berechnen.\r\n",
    "Wir vernachlässigen die Krafteinflüsse der Luftreibung und betrachten das folgende \\textbf{inhomogene System von gewöhnlichen Differentialgleichungen zweiter Ordnung}:\r\n",
    "\\begin{equation*}\r\n",
    "\\frac{d^2}{dt^2}x_1(t) \\ = \\ 0,\\qquad \\frac{d^2}{dt^2}x_2(t) \\ = \\ -g.\r\n",
    "\\end{equation*}\r\n",
    "Wir bezeichnen hierbei die Horizontalkomponente der Position des Steins entlang der Wurfbahn zum Zeitpunkt $t \\in \\R_0^+$ mit $x_1 \\colon \\R_0^+ \\rightarrow \\R$ und die Vertikalkomponente mit $x_2 \\colon \\R_0^+ \\rightarrow \\R$. \r\n",
    "Die anfängliche Position zum Zeitpunkt $t_0 \\in \\R_0^+$ und die Anfangsgeschwindigkeit seien gegeben als\r\n",
    "\\begin{equation*}\r\n",
    "x_0 \\, = \\, \\left(\\begin{array}{r}z_1 \\\\z_2\\end{array}\\right),\\qquad v_0 \\, = \\, \\left(\\begin{array}{r}w_1\\\\w_2\\end{array}\\right).\r\n",
    "\\end{equation*}\r\n",
    "\r\n",
    "Unter diesen Voraussetzungen können wir das obige Differentialgleichungssystem lösen und erhalten für die Wurfbahn des Steins, d.h., die Position des Steins in Abhängigkeit der Zeit $t\\in\\R_0^+$, folgende Lösung\r\n",
    "\\begin{equation*}\r\n",
    "x_1(t) \\ = \\ z_1 + w_1\\cdot t, \\qquad x_2(t) \\ = \\ z_2 + w_2 \\cdot t - \\frac12 \\cdot g \\cdot t^2.\r\n",
    "\\end{equation*}\r\n",
    "Hieraus lassen sich nun auch die Richtungskomponenten der Geschwindigkeit des Steins in Abhängigkeit der Zeit $t\\in\\R_0^+$ ermitteln, denn es gilt\r\n",
    "\\begin{equation*}\r\n",
    "v_1(t) \\ \\coloneqq \\ \\frac{d}{dt}x_1(t) \\ = \\ x'_1(t) \\ = \\ w_1, \\qquad v_2(t) \\ \\coloneqq \\ \\frac{d}{dt}x_2(t) \\ = \\ x'_2(t) \\ = \\ w_2 - g\\cdot t.\r\n",
    "\\end{equation*}\r\n",
    "````"
   ],
   "metadata": {}
  },
  {
   "cell_type": "code",
   "execution_count": 1,
   "source": [
    "import matplotlib.pyplot as plt\r\n",
    "import numpy as np\r\n",
    "import ipywidgets as wdg \r\n",
    "import time\r\n",
    "\r\n",
    "def get_plot(z_1 = 0, z_2 = 0, w_1 = 0, w_2 = 0):\r\n",
    "    t = np.linspace(0,20,30)\r\n",
    "    g = 9.81\r\n",
    "\r\n",
    "    x_1 = z_1 + w_1 * t\r\n",
    "    x_2 = z_2 + w_2 * t - 1/g * t**2\r\n",
    "    \r\n",
    "    return x_1, x_2\r\n",
    "\r\n",
    "x_1, x_2 = get_plot(z_2 = 10, w_1 = 1, w_2 = 1)\r\n",
    "\r\n",
    "idx = np.min(np.where(x_2<0))\r\n",
    "\r\n",
    "fig = plt.figure();\r\n",
    "plt.plot(x_1[:idx], x_2[:idx], '.', color = 'k');\r\n",
    "plt.plot(x_1[idx-1], x_2[idx-1], '*', color='r');"
   ],
   "outputs": [
    {
     "output_type": "display_data",
     "data": {
      "image/png": "[encoded data removed]",
      "text/plain": [
       "<Figure size 432x288 with 1 Axes>"
      ]
     },
     "metadata": {
      "needs_background": "light"
     }
    }
   ],
   "metadata": {
    "tags": [
     "hide-input"
    ]
   }
  },
  {
   "cell_type": "markdown",
   "source": [
    "````{prf:example}\n",
    "Beschleunigung eines Raumschiffs durch Gravitation\n",
    ":label: ode:raumschiff\n",
    "\n",
    "Im letzten Beispiel wollen wir die Wirkung der Gravitation eines Himmelskörpers, wie zum Beispiel der Erde, auf ein wesentlich kleineres Objekt (wie ein Raumschiff) beschreiben. \n",
    "Sei also $r \\colon \\R_0^+ \\rightarrow \\R_0^+$ der Abstand des Raumschiffs zur Erde und $M \\approx 5,972 \\cdot 10^{24}~\\text{kg}$ die ungefähre Erdmasse.\n",
    "\n",
    "Dann lässt sich die Beschleunigung, die das Raumschiff auf Grund der Gravitation der Erde erfährt, durch folgende \\textbf{gewöhnliche Differentialgleichung zweiter Ordnung}, welche \\textbf{homogen und nichtlinear} ist, beschreiben:\n",
    "\\begin{equation*}\n",
    "\\frac{d^2}{dt^2}r(t) \\ = \\ -\\frac{M}{r^2(t)}.\n",
    "\\end{equation*}\n",
    "Das bedeutet, dass die Beschleunigung des Raumschiffs durch die Gravitation quadratisch mit dem Abstand zum Erdmittelpunkt zunimmt.\n",
    "````\n"
   ],
   "metadata": {}
  }
 ],
 "metadata": {
  "celltoolbar": "Tags",
  "kernelspec": {
   "display_name": "Python 3",
   "language": "python",
   "name": "python3"
  },
  "language_info": {
   "codemirror_mode": {
    "name": "ipython",
    "version": 3
   },
   "file_extension": ".py",
   "mimetype": "text/x-python",
   "name": "python",
   "nbconvert_exporter": "python",
   "pygments_lexer": "ipython3",
   "version": "3.8.5"
  }
 },
 "nbformat": 4,
 "nbformat_minor": 4
}